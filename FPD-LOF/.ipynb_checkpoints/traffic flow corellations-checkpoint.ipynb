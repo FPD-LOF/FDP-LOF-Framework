{
 "cells": [
  {
   "cell_type": "code",
   "execution_count": 1,
   "metadata": {},
   "outputs": [],
   "source": [
    "import Packages\n",
    "import copy\n",
    "import pickle\n",
    "import pandas as pd\n",
    "pd.options.display.max_rows = 500\n",
    "import matplotlib.pyplot as plt\n",
    "import seaborn as sns\n",
    "from datetime import datetime\n",
    "result = pickle.load(open(\"results.pickle\",\"rb\"))"
   ]
  },
  {
   "cell_type": "code",
   "execution_count": 3,
   "metadata": {},
   "outputs": [
    {
     "data": {
      "text/plain": [
       "dict_keys(['raw', 'fpds', 'matrices', 'lof', 'lof_df', 'binary_lof_df'])"
      ]
     },
     "execution_count": 3,
     "metadata": {},
     "output_type": "execute_result"
    }
   ],
   "source": [
    "result['NW'].keys()"
   ]
  },
  {
   "cell_type": "code",
   "execution_count": 5,
   "metadata": {},
   "outputs": [
    {
     "data": {
      "text/plain": [
       "dict_keys(['201234', '201231', '201225', '201212'])"
      ]
     },
     "execution_count": 5,
     "metadata": {},
     "output_type": "execute_result"
    }
   ],
   "source": [
    "result[\"NW\"]['raw'].keys()"
   ]
  },
  {
   "cell_type": "code",
   "execution_count": 6,
   "metadata": {},
   "outputs": [
    {
     "data": {
      "text/html": [
       "<div>\n",
       "<style scoped>\n",
       "    .dataframe tbody tr th:only-of-type {\n",
       "        vertical-align: middle;\n",
       "    }\n",
       "\n",
       "    .dataframe tbody tr th {\n",
       "        vertical-align: top;\n",
       "    }\n",
       "\n",
       "    .dataframe thead th {\n",
       "        text-align: right;\n",
       "    }\n",
       "</style>\n",
       "<table border=\"1\" class=\"dataframe\">\n",
       "  <thead>\n",
       "    <tr style=\"text-align: right;\">\n",
       "      <th></th>\n",
       "      <th>timestamp</th>\n",
       "      <th>cars</th>\n",
       "    </tr>\n",
       "  </thead>\n",
       "  <tbody>\n",
       "    <tr>\n",
       "      <th>11</th>\n",
       "      <td>2018-09-15 01:00:00</td>\n",
       "      <td>13.0</td>\n",
       "    </tr>\n",
       "    <tr>\n",
       "      <th>12</th>\n",
       "      <td>2018-09-15 01:05:00</td>\n",
       "      <td>11.0</td>\n",
       "    </tr>\n",
       "    <tr>\n",
       "      <th>13</th>\n",
       "      <td>2018-09-15 01:10:00</td>\n",
       "      <td>12.0</td>\n",
       "    </tr>\n",
       "    <tr>\n",
       "      <th>14</th>\n",
       "      <td>2018-09-15 01:15:00</td>\n",
       "      <td>19.0</td>\n",
       "    </tr>\n",
       "    <tr>\n",
       "      <th>15</th>\n",
       "      <td>2018-09-15 01:20:00</td>\n",
       "      <td>11.0</td>\n",
       "    </tr>\n",
       "    <tr>\n",
       "      <th>...</th>\n",
       "      <td>...</td>\n",
       "      <td>...</td>\n",
       "    </tr>\n",
       "    <tr>\n",
       "      <th>101172</th>\n",
       "      <td>2019-09-15 02:35:00</td>\n",
       "      <td>6.0</td>\n",
       "    </tr>\n",
       "    <tr>\n",
       "      <th>101173</th>\n",
       "      <td>2019-09-15 02:40:00</td>\n",
       "      <td>10.0</td>\n",
       "    </tr>\n",
       "    <tr>\n",
       "      <th>101174</th>\n",
       "      <td>2019-09-15 02:45:00</td>\n",
       "      <td>5.0</td>\n",
       "    </tr>\n",
       "    <tr>\n",
       "      <th>101175</th>\n",
       "      <td>2019-09-15 02:50:00</td>\n",
       "      <td>2.0</td>\n",
       "    </tr>\n",
       "    <tr>\n",
       "      <th>101176</th>\n",
       "      <td>2019-09-15 02:55:00</td>\n",
       "      <td>4.0</td>\n",
       "    </tr>\n",
       "  </tbody>\n",
       "</table>\n",
       "<p>99480 rows × 2 columns</p>\n",
       "</div>"
      ],
      "text/plain": [
       "                 timestamp  cars\n",
       "11     2018-09-15 01:00:00  13.0\n",
       "12     2018-09-15 01:05:00  11.0\n",
       "13     2018-09-15 01:10:00  12.0\n",
       "14     2018-09-15 01:15:00  19.0\n",
       "15     2018-09-15 01:20:00  11.0\n",
       "...                    ...   ...\n",
       "101172 2019-09-15 02:35:00   6.0\n",
       "101173 2019-09-15 02:40:00  10.0\n",
       "101174 2019-09-15 02:45:00   5.0\n",
       "101175 2019-09-15 02:50:00   2.0\n",
       "101176 2019-09-15 02:55:00   4.0\n",
       "\n",
       "[99480 rows x 2 columns]"
      ]
     },
     "execution_count": 6,
     "metadata": {},
     "output_type": "execute_result"
    }
   ],
   "source": [
    "result[\"NW\"]['raw']['201234']"
   ]
  },
  {
   "cell_type": "code",
   "execution_count": 2,
   "metadata": {},
   "outputs": [],
   "source": [
    "def create_flow_df(raw):\n",
    "    \"\"\"create df with all LOF scores\"\"\"\n",
    "    df = pd.DataFrame()\n",
    "    try:\n",
    "        for intersection in raw.keys():\n",
    "            dates = copy.deepcopy(raw[intersection])\n",
    "            dates = dates.groupby(pd.Grouper(key='timestamp', freq=\"H\")).sum() #extract hourly timeslots which have data\n",
    "            dates[intersection]= dates['cars']\n",
    "            dates = dates.drop(columns=['cars'])\n",
    "            df = pd.merge(df,dates, left_index=True, right_index=True, how='outer')\n",
    "    except Exception as e:\n",
    "        print(e)\n",
    "        return df,dates\n",
    "    return df"
   ]
  },
  {
   "cell_type": "code",
   "execution_count": 31,
   "metadata": {},
   "outputs": [],
   "source": [
    "a = create_flow_df(result[\"NW\"]['raw'])"
   ]
  },
  {
   "cell_type": "code",
   "execution_count": 15,
   "metadata": {},
   "outputs": [
    {
     "data": {
      "text/html": [
       "<div>\n",
       "<style scoped>\n",
       "    .dataframe tbody tr th:only-of-type {\n",
       "        vertical-align: middle;\n",
       "    }\n",
       "\n",
       "    .dataframe tbody tr th {\n",
       "        vertical-align: top;\n",
       "    }\n",
       "\n",
       "    .dataframe thead th {\n",
       "        text-align: right;\n",
       "    }\n",
       "</style>\n",
       "<table border=\"1\" class=\"dataframe\">\n",
       "  <thead>\n",
       "    <tr style=\"text-align: right;\">\n",
       "      <th></th>\n",
       "      <th>201234</th>\n",
       "      <th>201239</th>\n",
       "      <th>201245</th>\n",
       "      <th>201249</th>\n",
       "      <th>201291</th>\n",
       "      <th>201297</th>\n",
       "      <th>201302</th>\n",
       "      <th>201308</th>\n",
       "      <th>201311</th>\n",
       "    </tr>\n",
       "  </thead>\n",
       "  <tbody>\n",
       "    <tr>\n",
       "      <th>count</th>\n",
       "      <td>8762.000000</td>\n",
       "      <td>8762.000000</td>\n",
       "      <td>8762.000000</td>\n",
       "      <td>8762.000000</td>\n",
       "      <td>8762.00000</td>\n",
       "      <td>8762.000000</td>\n",
       "      <td>8762.000000</td>\n",
       "      <td>8762.000000</td>\n",
       "      <td>8762.000000</td>\n",
       "    </tr>\n",
       "    <tr>\n",
       "      <th>mean</th>\n",
       "      <td>504.027049</td>\n",
       "      <td>561.607738</td>\n",
       "      <td>467.826181</td>\n",
       "      <td>305.317507</td>\n",
       "      <td>404.72278</td>\n",
       "      <td>531.851860</td>\n",
       "      <td>520.375827</td>\n",
       "      <td>259.955718</td>\n",
       "      <td>873.949897</td>\n",
       "    </tr>\n",
       "    <tr>\n",
       "      <th>std</th>\n",
       "      <td>384.115023</td>\n",
       "      <td>452.214387</td>\n",
       "      <td>413.063747</td>\n",
       "      <td>253.423000</td>\n",
       "      <td>365.27070</td>\n",
       "      <td>439.566944</td>\n",
       "      <td>376.638105</td>\n",
       "      <td>175.333072</td>\n",
       "      <td>760.517461</td>\n",
       "    </tr>\n",
       "    <tr>\n",
       "      <th>min</th>\n",
       "      <td>0.000000</td>\n",
       "      <td>0.000000</td>\n",
       "      <td>0.000000</td>\n",
       "      <td>0.000000</td>\n",
       "      <td>0.00000</td>\n",
       "      <td>0.000000</td>\n",
       "      <td>0.000000</td>\n",
       "      <td>0.000000</td>\n",
       "      <td>0.000000</td>\n",
       "    </tr>\n",
       "    <tr>\n",
       "      <th>25%</th>\n",
       "      <td>124.000000</td>\n",
       "      <td>112.000000</td>\n",
       "      <td>101.000000</td>\n",
       "      <td>83.000000</td>\n",
       "      <td>94.00000</td>\n",
       "      <td>109.000000</td>\n",
       "      <td>150.000000</td>\n",
       "      <td>109.000000</td>\n",
       "      <td>268.000000</td>\n",
       "    </tr>\n",
       "    <tr>\n",
       "      <th>50%</th>\n",
       "      <td>467.000000</td>\n",
       "      <td>523.000000</td>\n",
       "      <td>418.000000</td>\n",
       "      <td>277.000000</td>\n",
       "      <td>346.00000</td>\n",
       "      <td>490.000000</td>\n",
       "      <td>481.000000</td>\n",
       "      <td>250.000000</td>\n",
       "      <td>598.000000</td>\n",
       "    </tr>\n",
       "    <tr>\n",
       "      <th>75%</th>\n",
       "      <td>803.000000</td>\n",
       "      <td>884.000000</td>\n",
       "      <td>685.000000</td>\n",
       "      <td>442.000000</td>\n",
       "      <td>554.75000</td>\n",
       "      <td>826.750000</td>\n",
       "      <td>815.000000</td>\n",
       "      <td>397.750000</td>\n",
       "      <td>1320.750000</td>\n",
       "    </tr>\n",
       "    <tr>\n",
       "      <th>max</th>\n",
       "      <td>1871.000000</td>\n",
       "      <td>2366.000000</td>\n",
       "      <td>2385.000000</td>\n",
       "      <td>1480.000000</td>\n",
       "      <td>2146.00000</td>\n",
       "      <td>2222.000000</td>\n",
       "      <td>2815.000000</td>\n",
       "      <td>890.000000</td>\n",
       "      <td>3554.000000</td>\n",
       "    </tr>\n",
       "  </tbody>\n",
       "</table>\n",
       "</div>"
      ],
      "text/plain": [
       "            201234       201239       201245       201249      201291  \\\n",
       "count  8762.000000  8762.000000  8762.000000  8762.000000  8762.00000   \n",
       "mean    504.027049   561.607738   467.826181   305.317507   404.72278   \n",
       "std     384.115023   452.214387   413.063747   253.423000   365.27070   \n",
       "min       0.000000     0.000000     0.000000     0.000000     0.00000   \n",
       "25%     124.000000   112.000000   101.000000    83.000000    94.00000   \n",
       "50%     467.000000   523.000000   418.000000   277.000000   346.00000   \n",
       "75%     803.000000   884.000000   685.000000   442.000000   554.75000   \n",
       "max    1871.000000  2366.000000  2385.000000  1480.000000  2146.00000   \n",
       "\n",
       "            201297       201302       201308       201311  \n",
       "count  8762.000000  8762.000000  8762.000000  8762.000000  \n",
       "mean    531.851860   520.375827   259.955718   873.949897  \n",
       "std     439.566944   376.638105   175.333072   760.517461  \n",
       "min       0.000000     0.000000     0.000000     0.000000  \n",
       "25%     109.000000   150.000000   109.000000   268.000000  \n",
       "50%     490.000000   481.000000   250.000000   598.000000  \n",
       "75%     826.750000   815.000000   397.750000  1320.750000  \n",
       "max    2222.000000  2815.000000   890.000000  3554.000000  "
      ]
     },
     "execution_count": 15,
     "metadata": {},
     "output_type": "execute_result"
    }
   ],
   "source": [
    "a.describe()"
   ]
  },
  {
   "cell_type": "code",
   "execution_count": 3,
   "metadata": {},
   "outputs": [],
   "source": [
    "output=[]\n",
    "for direction in result.keys():\n",
    "    raw = result[direction]['raw']\n",
    "    a = create_flow_df(raw)\n",
    "    output.append(a)"
   ]
  },
  {
   "cell_type": "code",
   "execution_count": 4,
   "metadata": {},
   "outputs": [
    {
     "data": {
      "text/plain": [
       "<AxesSubplot:>"
      ]
     },
     "execution_count": 4,
     "metadata": {},
     "output_type": "execute_result"
    },
    {
     "data": {
      "image/png": "[encoded data removed]",
      "text/plain": [
       "<Figure size 432x288 with 2 Axes>"
      ]
     },
     "metadata": {
      "needs_background": "light"
     },
     "output_type": "display_data"
    }
   ],
   "source": [
    "sns.heatmap(output[0].corr())"
   ]
  },
  {
   "cell_type": "code",
   "execution_count": 5,
   "metadata": {},
   "outputs": [
    {
     "data": {
      "text/plain": [
       "<AxesSubplot:>"
      ]
     },
     "execution_count": 5,
     "metadata": {},
     "output_type": "execute_result"
    },
    {
     "data": {
      "image/png": "[encoded data removed]",
      "text/plain": [
       "<Figure size 432x288 with 2 Axes>"
      ]
     },
     "metadata": {
      "needs_background": "light"
     },
     "output_type": "display_data"
    }
   ],
   "source": [
    "sns.heatmap(output[1].corr())"
   ]
  },
  {
   "cell_type": "code",
   "execution_count": 6,
   "metadata": {},
   "outputs": [
    {
     "data": {
      "text/plain": [
       "<AxesSubplot:>"
      ]
     },
     "execution_count": 6,
     "metadata": {},
     "output_type": "execute_result"
    },
    {
     "data": {
      "image/png": "[encoded data removed]",
      "text/plain": [
       "<Figure size 432x288 with 2 Axes>"
      ]
     },
     "metadata": {
      "needs_background": "light"
     },
     "output_type": "display_data"
    }
   ],
   "source": [
    "sns.heatmap(output[2].corr())"
   ]
  },
  {
   "cell_type": "code",
   "execution_count": 17,
   "metadata": {},
   "outputs": [
    {
     "data": {
      "text/html": [
       "<div>\n",
       "<style scoped>\n",
       "    .dataframe tbody tr th:only-of-type {\n",
       "        vertical-align: middle;\n",
       "    }\n",
       "\n",
       "    .dataframe tbody tr th {\n",
       "        vertical-align: top;\n",
       "    }\n",
       "\n",
       "    .dataframe thead th {\n",
       "        text-align: right;\n",
       "    }\n",
       "</style>\n",
       "<table border=\"1\" class=\"dataframe\">\n",
       "  <thead>\n",
       "    <tr style=\"text-align: right;\">\n",
       "      <th></th>\n",
       "      <th>201234</th>\n",
       "      <th>201239</th>\n",
       "      <th>201245</th>\n",
       "      <th>201249</th>\n",
       "      <th>201291</th>\n",
       "      <th>201297</th>\n",
       "      <th>201302</th>\n",
       "      <th>201308</th>\n",
       "      <th>201311</th>\n",
       "    </tr>\n",
       "  </thead>\n",
       "  <tbody>\n",
       "    <tr>\n",
       "      <th>count</th>\n",
       "      <td>8762.000000</td>\n",
       "      <td>8762.000000</td>\n",
       "      <td>8762.000000</td>\n",
       "      <td>8762.000000</td>\n",
       "      <td>8762.00000</td>\n",
       "      <td>8762.000000</td>\n",
       "      <td>8762.000000</td>\n",
       "      <td>8762.000000</td>\n",
       "      <td>8762.000000</td>\n",
       "    </tr>\n",
       "    <tr>\n",
       "      <th>mean</th>\n",
       "      <td>504.027049</td>\n",
       "      <td>561.607738</td>\n",
       "      <td>467.826181</td>\n",
       "      <td>305.317507</td>\n",
       "      <td>404.72278</td>\n",
       "      <td>531.851860</td>\n",
       "      <td>520.375827</td>\n",
       "      <td>259.955718</td>\n",
       "      <td>873.949897</td>\n",
       "    </tr>\n",
       "    <tr>\n",
       "      <th>std</th>\n",
       "      <td>384.115023</td>\n",
       "      <td>452.214387</td>\n",
       "      <td>413.063747</td>\n",
       "      <td>253.423000</td>\n",
       "      <td>365.27070</td>\n",
       "      <td>439.566944</td>\n",
       "      <td>376.638105</td>\n",
       "      <td>175.333072</td>\n",
       "      <td>760.517461</td>\n",
       "    </tr>\n",
       "    <tr>\n",
       "      <th>min</th>\n",
       "      <td>0.000000</td>\n",
       "      <td>0.000000</td>\n",
       "      <td>0.000000</td>\n",
       "      <td>0.000000</td>\n",
       "      <td>0.00000</td>\n",
       "      <td>0.000000</td>\n",
       "      <td>0.000000</td>\n",
       "      <td>0.000000</td>\n",
       "      <td>0.000000</td>\n",
       "    </tr>\n",
       "    <tr>\n",
       "      <th>25%</th>\n",
       "      <td>124.000000</td>\n",
       "      <td>112.000000</td>\n",
       "      <td>101.000000</td>\n",
       "      <td>83.000000</td>\n",
       "      <td>94.00000</td>\n",
       "      <td>109.000000</td>\n",
       "      <td>150.000000</td>\n",
       "      <td>109.000000</td>\n",
       "      <td>268.000000</td>\n",
       "    </tr>\n",
       "    <tr>\n",
       "      <th>50%</th>\n",
       "      <td>467.000000</td>\n",
       "      <td>523.000000</td>\n",
       "      <td>418.000000</td>\n",
       "      <td>277.000000</td>\n",
       "      <td>346.00000</td>\n",
       "      <td>490.000000</td>\n",
       "      <td>481.000000</td>\n",
       "      <td>250.000000</td>\n",
       "      <td>598.000000</td>\n",
       "    </tr>\n",
       "    <tr>\n",
       "      <th>75%</th>\n",
       "      <td>803.000000</td>\n",
       "      <td>884.000000</td>\n",
       "      <td>685.000000</td>\n",
       "      <td>442.000000</td>\n",
       "      <td>554.75000</td>\n",
       "      <td>826.750000</td>\n",
       "      <td>815.000000</td>\n",
       "      <td>397.750000</td>\n",
       "      <td>1320.750000</td>\n",
       "    </tr>\n",
       "    <tr>\n",
       "      <th>max</th>\n",
       "      <td>1871.000000</td>\n",
       "      <td>2366.000000</td>\n",
       "      <td>2385.000000</td>\n",
       "      <td>1480.000000</td>\n",
       "      <td>2146.00000</td>\n",
       "      <td>2222.000000</td>\n",
       "      <td>2815.000000</td>\n",
       "      <td>890.000000</td>\n",
       "      <td>3554.000000</td>\n",
       "    </tr>\n",
       "  </tbody>\n",
       "</table>\n",
       "</div>"
      ],
      "text/plain": [
       "            201234       201239       201245       201249      201291  \\\n",
       "count  8762.000000  8762.000000  8762.000000  8762.000000  8762.00000   \n",
       "mean    504.027049   561.607738   467.826181   305.317507   404.72278   \n",
       "std     384.115023   452.214387   413.063747   253.423000   365.27070   \n",
       "min       0.000000     0.000000     0.000000     0.000000     0.00000   \n",
       "25%     124.000000   112.000000   101.000000    83.000000    94.00000   \n",
       "50%     467.000000   523.000000   418.000000   277.000000   346.00000   \n",
       "75%     803.000000   884.000000   685.000000   442.000000   554.75000   \n",
       "max    1871.000000  2366.000000  2385.000000  1480.000000  2146.00000   \n",
       "\n",
       "            201297       201302       201308       201311  \n",
       "count  8762.000000  8762.000000  8762.000000  8762.000000  \n",
       "mean    531.851860   520.375827   259.955718   873.949897  \n",
       "std     439.566944   376.638105   175.333072   760.517461  \n",
       "min       0.000000     0.000000     0.000000     0.000000  \n",
       "25%     109.000000   150.000000   109.000000   268.000000  \n",
       "50%     490.000000   481.000000   250.000000   598.000000  \n",
       "75%     826.750000   815.000000   397.750000  1320.750000  \n",
       "max    2222.000000  2815.000000   890.000000  3554.000000  "
      ]
     },
     "execution_count": 17,
     "metadata": {},
     "output_type": "execute_result"
    }
   ],
   "source": [
    "output[2].describe()"
   ]
  },
  {
   "cell_type": "code",
   "execution_count": 14,
   "metadata": {},
   "outputs": [
    {
     "data": {
      "text/plain": [
       "<AxesSubplot:xlabel='timestamp'>"
      ]
     },
     "execution_count": 14,
     "metadata": {},
     "output_type": "execute_result"
    },
    {
     "data": {
      "image/png": "[encoded data removed]",
      "text/plain": [
       "<Figure size 432x288 with 1 Axes>"
      ]
     },
     "metadata": {
      "needs_background": "light"
     },
     "output_type": "display_data"
    }
   ],
   "source": [
    "output[0][288:288*2]['201225'].plot()\n",
    "output[0][288:288*2]['201234'].plot()"
   ]
  },
  {
   "cell_type": "code",
   "execution_count": null,
   "metadata": {},
   "outputs": [],
   "source": []
  }
 ],
 "metadata": {
  "kernelspec": {
   "display_name": "Python 3",
   "language": "python",
   "name": "python3"
  },
  "language_info": {
   "codemirror_mode": {
    "name": "ipython",
    "version": 3
   },
   "file_extension": ".py",
   "mimetype": "text/x-python",
   "name": "python",
   "nbconvert_exporter": "python",
   "pygments_lexer": "ipython3",
   "version": "3.8.5"
  }
 },
 "nbformat": 4,
 "nbformat_minor": 4
}
